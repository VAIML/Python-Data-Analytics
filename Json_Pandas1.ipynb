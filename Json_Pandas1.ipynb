{
 "cells": [
  {
   "cell_type": "code",
   "execution_count": null,
   "id": "d0322ea7-65fd-4ae8-b934-83fb00c04185",
   "metadata": {},
   "outputs": [],
   "source": []
  },
  {
   "cell_type": "code",
   "execution_count": 9,
   "id": "f2fd7f72-3e93-48b1-a458-164231d37f03",
   "metadata": {},
   "outputs": [
    {
     "name": "stdout",
     "output_type": "stream",
     "text": [
      "        0\n",
      "0  People\n"
     ]
    }
   ],
   "source": [
    "import pandas as pd\n",
    "import numpy as ny\n",
    "\n",
    "sample_dict = {  \"people\" : [ {\n",
    "       \"firstName\": \"Joe\",\n",
    "       \"lastName\": \"Jackson\",\n",
    "       \"gender\": \"male\",\n",
    "       \"age\": 28,\n",
    "       \"number\": \"7349282382\"\n",
    "    },\n",
    "    {\n",
    "       \"firstName\": \"James\",\n",
    "       \"lastName\": \"Smith\",\n",
    "       \"gender\": \"male\",\n",
    "       \"age\": 32,\n",
    "       \"number\": \"5678568567\"\n",
    "    },\n",
    "    {\n",
    "       \"firstName\": \"Emily\",\n",
    "       \"lastName\": \"Jones\",\n",
    "       \"gender\": \"female\",\n",
    "       \"age\": 24,\n",
    "       \"number\": \"456754675\"\n",
    "    }\n",
    "  ]\n",
    "}\n",
    "\n",
    "df = pd.DataFrame(['People'])\n",
    "print(df.head())"
   ]
  },
  {
   "cell_type": "code",
   "execution_count": null,
   "id": "6dd92a5a-ba60-4105-8ca8-bd68c9cf29e0",
   "metadata": {},
   "outputs": [],
   "source": []
  }
 ],
 "metadata": {
  "kernelspec": {
   "display_name": "Python 3 (ipykernel)",
   "language": "python",
   "name": "python3"
  },
  "language_info": {
   "codemirror_mode": {
    "name": "ipython",
    "version": 3
   },
   "file_extension": ".py",
   "mimetype": "text/x-python",
   "name": "python",
   "nbconvert_exporter": "python",
   "pygments_lexer": "ipython3",
   "version": "3.12.5"
  }
 },
 "nbformat": 4,
 "nbformat_minor": 5
}
